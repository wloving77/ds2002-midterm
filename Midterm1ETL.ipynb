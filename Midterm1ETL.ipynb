{
 "cells": [
  {
   "cell_type": "markdown",
   "id": "924aede8-45c9-499a-ba67-f17528e4c0d5",
   "metadata": {},
   "source": [
    "# Midterm 1\n",
    "## Goal: \n",
    "### To demonstrate understanding of a basic ETL data pipeline by extracting data from a MongoDB cluster/database/collection, a MySQL locally hosted server, and a local filesystem."
   ]
  },
  {
   "cell_type": "code",
   "execution_count": 1,
   "id": "80a6f620-de60-4bb0-bc66-2196b6575b7e",
   "metadata": {
    "tags": []
   },
   "outputs": [],
   "source": [
    "# Imports (unsure if all are used, cast a wide net): \n",
    "\n",
    "import os\n",
    "from sqlalchemy import text, create_engine\n",
    "import pandas as pd\n",
    "import json\n",
    "import datetime\n",
    "import pymongo\n"
   ]
  },
  {
   "cell_type": "code",
   "execution_count": 2,
   "id": "be5c8044-8595-4b4f-91bc-07457e7fb822",
   "metadata": {
    "tags": []
   },
   "outputs": [],
   "source": [
    "#allows pd to show more columns when printing head\n",
    "pd.set_option('display.max_columns', 500)"
   ]
  },
  {
   "cell_type": "markdown",
   "id": "4a0207cc-cf1b-4aca-813d-28ec3c65b965",
   "metadata": {},
   "source": [
    "## Step 1: Load data from MySQL Sakila Data Warehouse\n",
    "### My goal is to create a fact_films table created by loading data from MySQL transforming it and then loading it into a MongoDB collection\n",
    "### Somewhere along the way I will use a local filesystem to create one of the tables."
   ]
  },
  {
   "cell_type": "code",
   "execution_count": 51,
   "id": "1d39d13f-bad0-42cc-949e-dd495b2986a1",
   "metadata": {
    "tags": []
   },
   "outputs": [],
   "source": [
    "host_name = \"localhost\" # the host name\n",
    "port = \"3306\" # the port to connect on\n",
    "user_id = \"root\" # the user id of the account\n",
    "pwd = os.environ[\"PWD\"] # an enviornmental variable invisible as I delete the cell after creating it. \n",
    "\n",
    "src_dbname = \"sakila\" #the database we are loading from"
   ]
  },
  {
   "cell_type": "code",
   "execution_count": 5,
   "id": "99ebe18f-f52e-4784-bfb9-fc7e831f567a",
   "metadata": {
    "tags": []
   },
   "outputs": [],
   "source": [
    "# function written by J. Tupitza with the purpose of loading a dataframe from a MySQL server\n",
    "def get_dataframe(user_id, pwd, host_name, db_name, sql_query):\n",
    "    conn_str = f\"mysql+pymysql://{user_id}:{pwd}@{host_name}/{db_name}\"\n",
    "    sqlEngine = create_engine(conn_str, pool_recycle=3600)\n",
    "    connection = sqlEngine.connect()\n",
    "    dframe = pd.read_sql(sql_query, connection);\n",
    "    connection.close()\n",
    "    \n",
    "    return dframe"
   ]
  },
  {
   "cell_type": "code",
   "execution_count": 6,
   "id": "dff4d7f2-f1ea-4c30-a87d-00c84db61d67",
   "metadata": {
    "tags": []
   },
   "outputs": [
    {
     "data": {
      "text/html": [
       "<div>\n",
       "<style scoped>\n",
       "    .dataframe tbody tr th:only-of-type {\n",
       "        vertical-align: middle;\n",
       "    }\n",
       "\n",
       "    .dataframe tbody tr th {\n",
       "        vertical-align: top;\n",
       "    }\n",
       "\n",
       "    .dataframe thead th {\n",
       "        text-align: right;\n",
       "    }\n",
       "</style>\n",
       "<table border=\"1\" class=\"dataframe\">\n",
       "  <thead>\n",
       "    <tr style=\"text-align: right;\">\n",
       "      <th></th>\n",
       "      <th>film_id</th>\n",
       "      <th>title</th>\n",
       "      <th>description</th>\n",
       "      <th>release_year</th>\n",
       "      <th>language_id</th>\n",
       "      <th>original_language_id</th>\n",
       "      <th>rental_duration</th>\n",
       "      <th>rental_rate</th>\n",
       "      <th>length</th>\n",
       "      <th>replacement_cost</th>\n",
       "      <th>rating</th>\n",
       "      <th>special_features</th>\n",
       "      <th>last_update</th>\n",
       "    </tr>\n",
       "  </thead>\n",
       "  <tbody>\n",
       "    <tr>\n",
       "      <th>0</th>\n",
       "      <td>1</td>\n",
       "      <td>ACADEMY DINOSAUR</td>\n",
       "      <td>A Epic Drama of a Feminist And a Mad Scientist...</td>\n",
       "      <td>2006</td>\n",
       "      <td>1</td>\n",
       "      <td>None</td>\n",
       "      <td>6</td>\n",
       "      <td>0.99</td>\n",
       "      <td>86</td>\n",
       "      <td>20.99</td>\n",
       "      <td>PG</td>\n",
       "      <td>Deleted Scenes,Behind the Scenes</td>\n",
       "      <td>2006-02-15 05:03:42</td>\n",
       "    </tr>\n",
       "    <tr>\n",
       "      <th>1</th>\n",
       "      <td>2</td>\n",
       "      <td>ACE GOLDFINGER</td>\n",
       "      <td>A Astounding Epistle of a Database Administrat...</td>\n",
       "      <td>2006</td>\n",
       "      <td>1</td>\n",
       "      <td>None</td>\n",
       "      <td>3</td>\n",
       "      <td>4.99</td>\n",
       "      <td>48</td>\n",
       "      <td>12.99</td>\n",
       "      <td>G</td>\n",
       "      <td>Trailers,Deleted Scenes</td>\n",
       "      <td>2006-02-15 05:03:42</td>\n",
       "    </tr>\n",
       "  </tbody>\n",
       "</table>\n",
       "</div>"
      ],
      "text/plain": [
       "   film_id             title  \\\n",
       "0        1  ACADEMY DINOSAUR   \n",
       "1        2    ACE GOLDFINGER   \n",
       "\n",
       "                                         description  release_year  \\\n",
       "0  A Epic Drama of a Feminist And a Mad Scientist...          2006   \n",
       "1  A Astounding Epistle of a Database Administrat...          2006   \n",
       "\n",
       "   language_id original_language_id  rental_duration  rental_rate  length  \\\n",
       "0            1                 None                6         0.99      86   \n",
       "1            1                 None                3         4.99      48   \n",
       "\n",
       "   replacement_cost rating                  special_features  \\\n",
       "0             20.99     PG  Deleted Scenes,Behind the Scenes   \n",
       "1             12.99      G           Trailers,Deleted Scenes   \n",
       "\n",
       "          last_update  \n",
       "0 2006-02-15 05:03:42  \n",
       "1 2006-02-15 05:03:42  "
      ]
     },
     "execution_count": 6,
     "metadata": {},
     "output_type": "execute_result"
    }
   ],
   "source": [
    "#Loading the Films table from sakila\n",
    "query = \"SELECT * FROM film;\"\n",
    "df_film = get_dataframe(user_id, pwd, host_name, src_dbname, text(query))\n",
    "df_film.head(2)"
   ]
  },
  {
   "cell_type": "code",
   "execution_count": 7,
   "id": "7e85a9bf-f491-4b42-b4b9-cf61eb09af18",
   "metadata": {
    "tags": []
   },
   "outputs": [
    {
     "data": {
      "text/html": [
       "<div>\n",
       "<style scoped>\n",
       "    .dataframe tbody tr th:only-of-type {\n",
       "        vertical-align: middle;\n",
       "    }\n",
       "\n",
       "    .dataframe tbody tr th {\n",
       "        vertical-align: top;\n",
       "    }\n",
       "\n",
       "    .dataframe thead th {\n",
       "        text-align: right;\n",
       "    }\n",
       "</style>\n",
       "<table border=\"1\" class=\"dataframe\">\n",
       "  <thead>\n",
       "    <tr style=\"text-align: right;\">\n",
       "      <th></th>\n",
       "      <th>actor_id</th>\n",
       "      <th>film_id</th>\n",
       "      <th>last_update</th>\n",
       "    </tr>\n",
       "  </thead>\n",
       "  <tbody>\n",
       "    <tr>\n",
       "      <th>0</th>\n",
       "      <td>1</td>\n",
       "      <td>1</td>\n",
       "      <td>2006-02-15 05:05:03</td>\n",
       "    </tr>\n",
       "    <tr>\n",
       "      <th>1</th>\n",
       "      <td>1</td>\n",
       "      <td>23</td>\n",
       "      <td>2006-02-15 05:05:03</td>\n",
       "    </tr>\n",
       "  </tbody>\n",
       "</table>\n",
       "</div>"
      ],
      "text/plain": [
       "   actor_id  film_id         last_update\n",
       "0         1        1 2006-02-15 05:05:03\n",
       "1         1       23 2006-02-15 05:05:03"
      ]
     },
     "execution_count": 7,
     "metadata": {},
     "output_type": "execute_result"
    }
   ],
   "source": [
    "#Loads the film_actor table from sakila\n",
    "query = \"SELECT * FROM film_actor;\"\n",
    "df_film_actor = get_dataframe(user_id, pwd, host_name, src_dbname, text(query))\n",
    "df_film_actor.head(2)"
   ]
  },
  {
   "cell_type": "code",
   "execution_count": 8,
   "id": "30166ac8-79b7-4a7b-82ad-977377346340",
   "metadata": {
    "tags": []
   },
   "outputs": [
    {
     "data": {
      "text/html": [
       "<div>\n",
       "<style scoped>\n",
       "    .dataframe tbody tr th:only-of-type {\n",
       "        vertical-align: middle;\n",
       "    }\n",
       "\n",
       "    .dataframe tbody tr th {\n",
       "        vertical-align: top;\n",
       "    }\n",
       "\n",
       "    .dataframe thead th {\n",
       "        text-align: right;\n",
       "    }\n",
       "</style>\n",
       "<table border=\"1\" class=\"dataframe\">\n",
       "  <thead>\n",
       "    <tr style=\"text-align: right;\">\n",
       "      <th></th>\n",
       "      <th>actor_id</th>\n",
       "      <th>first_name</th>\n",
       "      <th>last_name</th>\n",
       "      <th>last_update</th>\n",
       "    </tr>\n",
       "  </thead>\n",
       "  <tbody>\n",
       "    <tr>\n",
       "      <th>0</th>\n",
       "      <td>1</td>\n",
       "      <td>PENELOPE</td>\n",
       "      <td>GUINESS</td>\n",
       "      <td>2006-02-15 04:34:33</td>\n",
       "    </tr>\n",
       "    <tr>\n",
       "      <th>1</th>\n",
       "      <td>2</td>\n",
       "      <td>NICK</td>\n",
       "      <td>WAHLBERG</td>\n",
       "      <td>2006-02-15 04:34:33</td>\n",
       "    </tr>\n",
       "  </tbody>\n",
       "</table>\n",
       "</div>"
      ],
      "text/plain": [
       "   actor_id first_name last_name         last_update\n",
       "0         1   PENELOPE   GUINESS 2006-02-15 04:34:33\n",
       "1         2       NICK  WAHLBERG 2006-02-15 04:34:33"
      ]
     },
     "execution_count": 8,
     "metadata": {},
     "output_type": "execute_result"
    }
   ],
   "source": [
    "#Loads the actor table from sakila\n",
    "query = \"SELECT * FROM actor;\"\n",
    "df_actor = get_dataframe(user_id, pwd, host_name, src_dbname, text(query))\n",
    "df_actor.head(2)"
   ]
  },
  {
   "cell_type": "code",
   "execution_count": 9,
   "id": "7f305623-d76e-4430-ac91-5a489964a459",
   "metadata": {
    "tags": []
   },
   "outputs": [
    {
     "data": {
      "text/html": [
       "<div>\n",
       "<style scoped>\n",
       "    .dataframe tbody tr th:only-of-type {\n",
       "        vertical-align: middle;\n",
       "    }\n",
       "\n",
       "    .dataframe tbody tr th {\n",
       "        vertical-align: top;\n",
       "    }\n",
       "\n",
       "    .dataframe thead th {\n",
       "        text-align: right;\n",
       "    }\n",
       "</style>\n",
       "<table border=\"1\" class=\"dataframe\">\n",
       "  <thead>\n",
       "    <tr style=\"text-align: right;\">\n",
       "      <th></th>\n",
       "      <th>film_id</th>\n",
       "      <th>category_id</th>\n",
       "      <th>last_update</th>\n",
       "    </tr>\n",
       "  </thead>\n",
       "  <tbody>\n",
       "    <tr>\n",
       "      <th>0</th>\n",
       "      <td>1</td>\n",
       "      <td>6</td>\n",
       "      <td>2006-02-15 05:07:09</td>\n",
       "    </tr>\n",
       "    <tr>\n",
       "      <th>1</th>\n",
       "      <td>2</td>\n",
       "      <td>11</td>\n",
       "      <td>2006-02-15 05:07:09</td>\n",
       "    </tr>\n",
       "  </tbody>\n",
       "</table>\n",
       "</div>"
      ],
      "text/plain": [
       "   film_id  category_id         last_update\n",
       "0        1            6 2006-02-15 05:07:09\n",
       "1        2           11 2006-02-15 05:07:09"
      ]
     },
     "execution_count": 9,
     "metadata": {},
     "output_type": "execute_result"
    }
   ],
   "source": [
    "#loads the film_category table from sakila\n",
    "query = \"SELECT * FROM film_category;\"\n",
    "df_film_category = get_dataframe(user_id, pwd, host_name, src_dbname, text(query))\n",
    "df_film_category.head(2)"
   ]
  },
  {
   "cell_type": "code",
   "execution_count": 10,
   "id": "5e3d9ed5-a46f-4bc1-ab92-86729efbc594",
   "metadata": {
    "tags": []
   },
   "outputs": [
    {
     "data": {
      "text/html": [
       "<div>\n",
       "<style scoped>\n",
       "    .dataframe tbody tr th:only-of-type {\n",
       "        vertical-align: middle;\n",
       "    }\n",
       "\n",
       "    .dataframe tbody tr th {\n",
       "        vertical-align: top;\n",
       "    }\n",
       "\n",
       "    .dataframe thead th {\n",
       "        text-align: right;\n",
       "    }\n",
       "</style>\n",
       "<table border=\"1\" class=\"dataframe\">\n",
       "  <thead>\n",
       "    <tr style=\"text-align: right;\">\n",
       "      <th></th>\n",
       "      <th>category_id</th>\n",
       "      <th>name</th>\n",
       "      <th>last_update</th>\n",
       "    </tr>\n",
       "  </thead>\n",
       "  <tbody>\n",
       "    <tr>\n",
       "      <th>0</th>\n",
       "      <td>1</td>\n",
       "      <td>Action</td>\n",
       "      <td>2006-02-15 04:46:27</td>\n",
       "    </tr>\n",
       "    <tr>\n",
       "      <th>1</th>\n",
       "      <td>2</td>\n",
       "      <td>Animation</td>\n",
       "      <td>2006-02-15 04:46:27</td>\n",
       "    </tr>\n",
       "  </tbody>\n",
       "</table>\n",
       "</div>"
      ],
      "text/plain": [
       "   category_id       name         last_update\n",
       "0            1     Action 2006-02-15 04:46:27\n",
       "1            2  Animation 2006-02-15 04:46:27"
      ]
     },
     "execution_count": 10,
     "metadata": {},
     "output_type": "execute_result"
    }
   ],
   "source": [
    "#Loads the category table from sakila\n",
    "query = \"SELECT * FROM category\"\n",
    "df_category = get_dataframe(user_id, pwd, host_name, src_dbname, text(query))\n",
    "df_category.head(2)"
   ]
  },
  {
   "cell_type": "code",
   "execution_count": 11,
   "id": "c8e676b1-3449-4525-bb2e-5e9cb6753227",
   "metadata": {
    "tags": []
   },
   "outputs": [
    {
     "data": {
      "text/html": [
       "<div>\n",
       "<style scoped>\n",
       "    .dataframe tbody tr th:only-of-type {\n",
       "        vertical-align: middle;\n",
       "    }\n",
       "\n",
       "    .dataframe tbody tr th {\n",
       "        vertical-align: top;\n",
       "    }\n",
       "\n",
       "    .dataframe thead th {\n",
       "        text-align: right;\n",
       "    }\n",
       "</style>\n",
       "<table border=\"1\" class=\"dataframe\">\n",
       "  <thead>\n",
       "    <tr style=\"text-align: right;\">\n",
       "      <th></th>\n",
       "      <th>language_id</th>\n",
       "      <th>name</th>\n",
       "      <th>last_update</th>\n",
       "    </tr>\n",
       "  </thead>\n",
       "  <tbody>\n",
       "    <tr>\n",
       "      <th>0</th>\n",
       "      <td>1</td>\n",
       "      <td>English</td>\n",
       "      <td>2006-02-15 05:02:19</td>\n",
       "    </tr>\n",
       "    <tr>\n",
       "      <th>1</th>\n",
       "      <td>2</td>\n",
       "      <td>Italian</td>\n",
       "      <td>2006-02-15 05:02:19</td>\n",
       "    </tr>\n",
       "  </tbody>\n",
       "</table>\n",
       "</div>"
      ],
      "text/plain": [
       "   language_id     name         last_update\n",
       "0            1  English 2006-02-15 05:02:19\n",
       "1            2  Italian 2006-02-15 05:02:19"
      ]
     },
     "execution_count": 11,
     "metadata": {},
     "output_type": "execute_result"
    }
   ],
   "source": [
    "#Loads the language table from sakila\n",
    "query = \"SELECT * FROM language\"\n",
    "df_language = get_dataframe(user_id, pwd, host_name, src_dbname, text(query))\n",
    "df_language.head(2)"
   ]
  },
  {
   "cell_type": "markdown",
   "id": "3d385c27-4687-451b-a433-00c9f81cf016",
   "metadata": {},
   "source": [
    "# Now that data has been loaded I can begin building fact_films:"
   ]
  },
  {
   "cell_type": "code",
   "execution_count": 12,
   "id": "70cd9775-5793-43f6-896c-809a0172342f",
   "metadata": {
    "tags": []
   },
   "outputs": [
    {
     "data": {
      "text/html": [
       "<div>\n",
       "<style scoped>\n",
       "    .dataframe tbody tr th:only-of-type {\n",
       "        vertical-align: middle;\n",
       "    }\n",
       "\n",
       "    .dataframe tbody tr th {\n",
       "        vertical-align: top;\n",
       "    }\n",
       "\n",
       "    .dataframe thead th {\n",
       "        text-align: right;\n",
       "    }\n",
       "</style>\n",
       "<table border=\"1\" class=\"dataframe\">\n",
       "  <thead>\n",
       "    <tr style=\"text-align: right;\">\n",
       "      <th></th>\n",
       "      <th>film_id</th>\n",
       "      <th>title</th>\n",
       "      <th>description</th>\n",
       "      <th>release_year</th>\n",
       "      <th>language_id</th>\n",
       "      <th>original_language_id</th>\n",
       "      <th>rental_duration</th>\n",
       "      <th>rental_rate</th>\n",
       "      <th>length</th>\n",
       "      <th>replacement_cost</th>\n",
       "      <th>rating</th>\n",
       "      <th>special_features</th>\n",
       "      <th>last_update</th>\n",
       "      <th>actor_id</th>\n",
       "      <th>last_update_film_actor</th>\n",
       "    </tr>\n",
       "  </thead>\n",
       "  <tbody>\n",
       "    <tr>\n",
       "      <th>0</th>\n",
       "      <td>1</td>\n",
       "      <td>ACADEMY DINOSAUR</td>\n",
       "      <td>A Epic Drama of a Feminist And a Mad Scientist...</td>\n",
       "      <td>2006</td>\n",
       "      <td>1</td>\n",
       "      <td>None</td>\n",
       "      <td>6</td>\n",
       "      <td>0.99</td>\n",
       "      <td>86</td>\n",
       "      <td>20.99</td>\n",
       "      <td>PG</td>\n",
       "      <td>Deleted Scenes,Behind the Scenes</td>\n",
       "      <td>2006-02-15 05:03:42</td>\n",
       "      <td>1.0</td>\n",
       "      <td>2006-02-15 05:05:03</td>\n",
       "    </tr>\n",
       "  </tbody>\n",
       "</table>\n",
       "</div>"
      ],
      "text/plain": [
       "   film_id             title  \\\n",
       "0        1  ACADEMY DINOSAUR   \n",
       "\n",
       "                                         description  release_year  \\\n",
       "0  A Epic Drama of a Feminist And a Mad Scientist...          2006   \n",
       "\n",
       "   language_id original_language_id  rental_duration  rental_rate  length  \\\n",
       "0            1                 None                6         0.99      86   \n",
       "\n",
       "   replacement_cost rating                  special_features  \\\n",
       "0             20.99     PG  Deleted Scenes,Behind the Scenes   \n",
       "\n",
       "          last_update  actor_id last_update_film_actor  \n",
       "0 2006-02-15 05:03:42       1.0    2006-02-15 05:05:03  "
      ]
     },
     "execution_count": 12,
     "metadata": {},
     "output_type": "execute_result"
    }
   ],
   "source": [
    "#The fact films table will include all of the information about the films from the actors to the categorys and descriptions, but will not have purchase/payment information. \n",
    "\n",
    "df_fact_films = pd.merge(df_film, df_film_actor, left_on = \"film_id\", right_on = \"film_id\", how = \"left\", suffixes = ('', '_film_actor'))\n",
    "df_fact_films.head(1)\n",
    "\n",
    "# now df_fact_films has an actor_id column, so I can now merge the actual actors table onto that. "
   ]
  },
  {
   "cell_type": "code",
   "execution_count": 13,
   "id": "9629b3d2-b35c-4093-95cb-e55dc119587e",
   "metadata": {
    "tags": []
   },
   "outputs": [
    {
     "data": {
      "text/html": [
       "<div>\n",
       "<style scoped>\n",
       "    .dataframe tbody tr th:only-of-type {\n",
       "        vertical-align: middle;\n",
       "    }\n",
       "\n",
       "    .dataframe tbody tr th {\n",
       "        vertical-align: top;\n",
       "    }\n",
       "\n",
       "    .dataframe thead th {\n",
       "        text-align: right;\n",
       "    }\n",
       "</style>\n",
       "<table border=\"1\" class=\"dataframe\">\n",
       "  <thead>\n",
       "    <tr style=\"text-align: right;\">\n",
       "      <th></th>\n",
       "      <th>film_id</th>\n",
       "      <th>title</th>\n",
       "      <th>description</th>\n",
       "      <th>release_year</th>\n",
       "      <th>language_id</th>\n",
       "      <th>original_language_id</th>\n",
       "      <th>rental_duration</th>\n",
       "      <th>rental_rate</th>\n",
       "      <th>length</th>\n",
       "      <th>replacement_cost</th>\n",
       "      <th>rating</th>\n",
       "      <th>special_features</th>\n",
       "      <th>last_update</th>\n",
       "      <th>actor_id</th>\n",
       "      <th>last_update_film_actor</th>\n",
       "      <th>first_name</th>\n",
       "      <th>last_name</th>\n",
       "      <th>last_update_actor</th>\n",
       "    </tr>\n",
       "  </thead>\n",
       "  <tbody>\n",
       "    <tr>\n",
       "      <th>0</th>\n",
       "      <td>1</td>\n",
       "      <td>ACADEMY DINOSAUR</td>\n",
       "      <td>A Epic Drama of a Feminist And a Mad Scientist...</td>\n",
       "      <td>2006</td>\n",
       "      <td>1</td>\n",
       "      <td>None</td>\n",
       "      <td>6</td>\n",
       "      <td>0.99</td>\n",
       "      <td>86</td>\n",
       "      <td>20.99</td>\n",
       "      <td>PG</td>\n",
       "      <td>Deleted Scenes,Behind the Scenes</td>\n",
       "      <td>2006-02-15 05:03:42</td>\n",
       "      <td>1.0</td>\n",
       "      <td>2006-02-15 05:05:03</td>\n",
       "      <td>PENELOPE</td>\n",
       "      <td>GUINESS</td>\n",
       "      <td>2006-02-15 04:34:33</td>\n",
       "    </tr>\n",
       "  </tbody>\n",
       "</table>\n",
       "</div>"
      ],
      "text/plain": [
       "   film_id             title  \\\n",
       "0        1  ACADEMY DINOSAUR   \n",
       "\n",
       "                                         description  release_year  \\\n",
       "0  A Epic Drama of a Feminist And a Mad Scientist...          2006   \n",
       "\n",
       "   language_id original_language_id  rental_duration  rental_rate  length  \\\n",
       "0            1                 None                6         0.99      86   \n",
       "\n",
       "   replacement_cost rating                  special_features  \\\n",
       "0             20.99     PG  Deleted Scenes,Behind the Scenes   \n",
       "\n",
       "          last_update  actor_id last_update_film_actor first_name last_name  \\\n",
       "0 2006-02-15 05:03:42       1.0    2006-02-15 05:05:03   PENELOPE   GUINESS   \n",
       "\n",
       "    last_update_actor  \n",
       "0 2006-02-15 04:34:33  "
      ]
     },
     "execution_count": 13,
     "metadata": {},
     "output_type": "execute_result"
    }
   ],
   "source": [
    "df_fact_films = pd.merge(df_fact_films, df_actor, left_on = \"actor_id\", right_on = \"actor_id\", how = \"left\", suffixes = ('', '_actor'))\n",
    "df_fact_films.head(1)\n",
    "#Now the table includes the actors first and last name, I intend to clean up duplicate/unnecessary columns at the end."
   ]
  },
  {
   "cell_type": "code",
   "execution_count": 14,
   "id": "8718fa51-206f-49dd-8dcd-675f416365db",
   "metadata": {
    "tags": []
   },
   "outputs": [
    {
     "data": {
      "text/html": [
       "<div>\n",
       "<style scoped>\n",
       "    .dataframe tbody tr th:only-of-type {\n",
       "        vertical-align: middle;\n",
       "    }\n",
       "\n",
       "    .dataframe tbody tr th {\n",
       "        vertical-align: top;\n",
       "    }\n",
       "\n",
       "    .dataframe thead th {\n",
       "        text-align: right;\n",
       "    }\n",
       "</style>\n",
       "<table border=\"1\" class=\"dataframe\">\n",
       "  <thead>\n",
       "    <tr style=\"text-align: right;\">\n",
       "      <th></th>\n",
       "      <th>film_id</th>\n",
       "      <th>title</th>\n",
       "      <th>description</th>\n",
       "      <th>release_year</th>\n",
       "      <th>language_id</th>\n",
       "      <th>original_language_id</th>\n",
       "      <th>rental_duration</th>\n",
       "      <th>rental_rate</th>\n",
       "      <th>length</th>\n",
       "      <th>replacement_cost</th>\n",
       "      <th>rating</th>\n",
       "      <th>special_features</th>\n",
       "      <th>last_update</th>\n",
       "      <th>actor_id</th>\n",
       "      <th>last_update_film_actor</th>\n",
       "      <th>first_name</th>\n",
       "      <th>last_name</th>\n",
       "      <th>last_update_actor</th>\n",
       "      <th>category_id</th>\n",
       "      <th>last_update_film_category</th>\n",
       "    </tr>\n",
       "  </thead>\n",
       "  <tbody>\n",
       "    <tr>\n",
       "      <th>0</th>\n",
       "      <td>1</td>\n",
       "      <td>ACADEMY DINOSAUR</td>\n",
       "      <td>A Epic Drama of a Feminist And a Mad Scientist...</td>\n",
       "      <td>2006</td>\n",
       "      <td>1</td>\n",
       "      <td>None</td>\n",
       "      <td>6</td>\n",
       "      <td>0.99</td>\n",
       "      <td>86</td>\n",
       "      <td>20.99</td>\n",
       "      <td>PG</td>\n",
       "      <td>Deleted Scenes,Behind the Scenes</td>\n",
       "      <td>2006-02-15 05:03:42</td>\n",
       "      <td>1.0</td>\n",
       "      <td>2006-02-15 05:05:03</td>\n",
       "      <td>PENELOPE</td>\n",
       "      <td>GUINESS</td>\n",
       "      <td>2006-02-15 04:34:33</td>\n",
       "      <td>6</td>\n",
       "      <td>2006-02-15 05:07:09</td>\n",
       "    </tr>\n",
       "  </tbody>\n",
       "</table>\n",
       "</div>"
      ],
      "text/plain": [
       "   film_id             title  \\\n",
       "0        1  ACADEMY DINOSAUR   \n",
       "\n",
       "                                         description  release_year  \\\n",
       "0  A Epic Drama of a Feminist And a Mad Scientist...          2006   \n",
       "\n",
       "   language_id original_language_id  rental_duration  rental_rate  length  \\\n",
       "0            1                 None                6         0.99      86   \n",
       "\n",
       "   replacement_cost rating                  special_features  \\\n",
       "0             20.99     PG  Deleted Scenes,Behind the Scenes   \n",
       "\n",
       "          last_update  actor_id last_update_film_actor first_name last_name  \\\n",
       "0 2006-02-15 05:03:42       1.0    2006-02-15 05:05:03   PENELOPE   GUINESS   \n",
       "\n",
       "    last_update_actor  category_id last_update_film_category  \n",
       "0 2006-02-15 04:34:33            6       2006-02-15 05:07:09  "
      ]
     },
     "execution_count": 14,
     "metadata": {},
     "output_type": "execute_result"
    }
   ],
   "source": [
    "df_fact_films = pd.merge(df_fact_films, df_film_category, left_on = \"film_id\", right_on = \"film_id\", how = \"left\", suffixes = ('', '_film_category'))\n",
    "df_fact_films.head(1)\n",
    "#now the table has film_category id and we can add the actual films category"
   ]
  },
  {
   "cell_type": "code",
   "execution_count": 15,
   "id": "dd438a79-1cd5-4dc2-a50c-007101a628ea",
   "metadata": {
    "tags": []
   },
   "outputs": [
    {
     "data": {
      "text/html": [
       "<div>\n",
       "<style scoped>\n",
       "    .dataframe tbody tr th:only-of-type {\n",
       "        vertical-align: middle;\n",
       "    }\n",
       "\n",
       "    .dataframe tbody tr th {\n",
       "        vertical-align: top;\n",
       "    }\n",
       "\n",
       "    .dataframe thead th {\n",
       "        text-align: right;\n",
       "    }\n",
       "</style>\n",
       "<table border=\"1\" class=\"dataframe\">\n",
       "  <thead>\n",
       "    <tr style=\"text-align: right;\">\n",
       "      <th></th>\n",
       "      <th>film_id</th>\n",
       "      <th>title</th>\n",
       "      <th>description</th>\n",
       "      <th>release_year</th>\n",
       "      <th>language_id</th>\n",
       "      <th>original_language_id</th>\n",
       "      <th>rental_duration</th>\n",
       "      <th>rental_rate</th>\n",
       "      <th>length</th>\n",
       "      <th>replacement_cost</th>\n",
       "      <th>rating</th>\n",
       "      <th>special_features</th>\n",
       "      <th>last_update</th>\n",
       "      <th>actor_id</th>\n",
       "      <th>last_update_film_actor</th>\n",
       "      <th>first_name</th>\n",
       "      <th>last_name</th>\n",
       "      <th>last_update_actor</th>\n",
       "      <th>category_id</th>\n",
       "      <th>last_update_film_category</th>\n",
       "      <th>name</th>\n",
       "      <th>last_update_category</th>\n",
       "    </tr>\n",
       "  </thead>\n",
       "  <tbody>\n",
       "    <tr>\n",
       "      <th>0</th>\n",
       "      <td>1</td>\n",
       "      <td>ACADEMY DINOSAUR</td>\n",
       "      <td>A Epic Drama of a Feminist And a Mad Scientist...</td>\n",
       "      <td>2006</td>\n",
       "      <td>1</td>\n",
       "      <td>None</td>\n",
       "      <td>6</td>\n",
       "      <td>0.99</td>\n",
       "      <td>86</td>\n",
       "      <td>20.99</td>\n",
       "      <td>PG</td>\n",
       "      <td>Deleted Scenes,Behind the Scenes</td>\n",
       "      <td>2006-02-15 05:03:42</td>\n",
       "      <td>1.0</td>\n",
       "      <td>2006-02-15 05:05:03</td>\n",
       "      <td>PENELOPE</td>\n",
       "      <td>GUINESS</td>\n",
       "      <td>2006-02-15 04:34:33</td>\n",
       "      <td>6</td>\n",
       "      <td>2006-02-15 05:07:09</td>\n",
       "      <td>Documentary</td>\n",
       "      <td>2006-02-15 04:46:27</td>\n",
       "    </tr>\n",
       "  </tbody>\n",
       "</table>\n",
       "</div>"
      ],
      "text/plain": [
       "   film_id             title  \\\n",
       "0        1  ACADEMY DINOSAUR   \n",
       "\n",
       "                                         description  release_year  \\\n",
       "0  A Epic Drama of a Feminist And a Mad Scientist...          2006   \n",
       "\n",
       "   language_id original_language_id  rental_duration  rental_rate  length  \\\n",
       "0            1                 None                6         0.99      86   \n",
       "\n",
       "   replacement_cost rating                  special_features  \\\n",
       "0             20.99     PG  Deleted Scenes,Behind the Scenes   \n",
       "\n",
       "          last_update  actor_id last_update_film_actor first_name last_name  \\\n",
       "0 2006-02-15 05:03:42       1.0    2006-02-15 05:05:03   PENELOPE   GUINESS   \n",
       "\n",
       "    last_update_actor  category_id last_update_film_category         name  \\\n",
       "0 2006-02-15 04:34:33            6       2006-02-15 05:07:09  Documentary   \n",
       "\n",
       "  last_update_category  \n",
       "0  2006-02-15 04:46:27  "
      ]
     },
     "execution_count": 15,
     "metadata": {},
     "output_type": "execute_result"
    }
   ],
   "source": [
    "df_fact_films = pd.merge(df_fact_films, df_category, left_on = \"category_id\", right_on = \"category_id\", how = \"left\", suffixes = ('', '_category'))\n",
    "df_fact_films.head(1)\n",
    "#now we have the actual category name as \"name\", I intend to change this later in the cleaning stage"
   ]
  },
  {
   "cell_type": "code",
   "execution_count": 16,
   "id": "2e3bc510-be52-4825-a872-8cf5b28dcc3e",
   "metadata": {
    "tags": []
   },
   "outputs": [
    {
     "data": {
      "text/html": [
       "<div>\n",
       "<style scoped>\n",
       "    .dataframe tbody tr th:only-of-type {\n",
       "        vertical-align: middle;\n",
       "    }\n",
       "\n",
       "    .dataframe tbody tr th {\n",
       "        vertical-align: top;\n",
       "    }\n",
       "\n",
       "    .dataframe thead th {\n",
       "        text-align: right;\n",
       "    }\n",
       "</style>\n",
       "<table border=\"1\" class=\"dataframe\">\n",
       "  <thead>\n",
       "    <tr style=\"text-align: right;\">\n",
       "      <th></th>\n",
       "      <th>film_id</th>\n",
       "      <th>title</th>\n",
       "      <th>description</th>\n",
       "      <th>release_year</th>\n",
       "      <th>language_id</th>\n",
       "      <th>original_language_id</th>\n",
       "      <th>rental_duration</th>\n",
       "      <th>rental_rate</th>\n",
       "      <th>length</th>\n",
       "      <th>replacement_cost</th>\n",
       "      <th>rating</th>\n",
       "      <th>special_features</th>\n",
       "      <th>last_update</th>\n",
       "      <th>actor_id</th>\n",
       "      <th>last_update_film_actor</th>\n",
       "      <th>first_name</th>\n",
       "      <th>last_name</th>\n",
       "      <th>last_update_actor</th>\n",
       "      <th>category_id</th>\n",
       "      <th>last_update_film_category</th>\n",
       "      <th>name</th>\n",
       "      <th>last_update_category</th>\n",
       "      <th>name_language</th>\n",
       "      <th>last_update_language</th>\n",
       "    </tr>\n",
       "  </thead>\n",
       "  <tbody>\n",
       "    <tr>\n",
       "      <th>0</th>\n",
       "      <td>1</td>\n",
       "      <td>ACADEMY DINOSAUR</td>\n",
       "      <td>A Epic Drama of a Feminist And a Mad Scientist...</td>\n",
       "      <td>2006</td>\n",
       "      <td>1</td>\n",
       "      <td>None</td>\n",
       "      <td>6</td>\n",
       "      <td>0.99</td>\n",
       "      <td>86</td>\n",
       "      <td>20.99</td>\n",
       "      <td>PG</td>\n",
       "      <td>Deleted Scenes,Behind the Scenes</td>\n",
       "      <td>2006-02-15 05:03:42</td>\n",
       "      <td>1.0</td>\n",
       "      <td>2006-02-15 05:05:03</td>\n",
       "      <td>PENELOPE</td>\n",
       "      <td>GUINESS</td>\n",
       "      <td>2006-02-15 04:34:33</td>\n",
       "      <td>6</td>\n",
       "      <td>2006-02-15 05:07:09</td>\n",
       "      <td>Documentary</td>\n",
       "      <td>2006-02-15 04:46:27</td>\n",
       "      <td>English</td>\n",
       "      <td>2006-02-15 05:02:19</td>\n",
       "    </tr>\n",
       "  </tbody>\n",
       "</table>\n",
       "</div>"
      ],
      "text/plain": [
       "   film_id             title  \\\n",
       "0        1  ACADEMY DINOSAUR   \n",
       "\n",
       "                                         description  release_year  \\\n",
       "0  A Epic Drama of a Feminist And a Mad Scientist...          2006   \n",
       "\n",
       "   language_id original_language_id  rental_duration  rental_rate  length  \\\n",
       "0            1                 None                6         0.99      86   \n",
       "\n",
       "   replacement_cost rating                  special_features  \\\n",
       "0             20.99     PG  Deleted Scenes,Behind the Scenes   \n",
       "\n",
       "          last_update  actor_id last_update_film_actor first_name last_name  \\\n",
       "0 2006-02-15 05:03:42       1.0    2006-02-15 05:05:03   PENELOPE   GUINESS   \n",
       "\n",
       "    last_update_actor  category_id last_update_film_category         name  \\\n",
       "0 2006-02-15 04:34:33            6       2006-02-15 05:07:09  Documentary   \n",
       "\n",
       "  last_update_category name_language last_update_language  \n",
       "0  2006-02-15 04:46:27       English  2006-02-15 05:02:19  "
      ]
     },
     "execution_count": 16,
     "metadata": {},
     "output_type": "execute_result"
    }
   ],
   "source": [
    "df_fact_films = pd.merge(df_fact_films, df_language, left_on = \"language_id\", right_on = \"language_id\", how = \"left\", suffixes = ('','_language'))\n",
    "df_fact_films.head(1)"
   ]
  },
  {
   "cell_type": "markdown",
   "id": "6222eabd-670c-47ee-9c9c-6115384f1841",
   "metadata": {},
   "source": [
    "# df_fact_films is now ready but certainly requires some cleaning/transforming: "
   ]
  },
  {
   "cell_type": "code",
   "execution_count": 17,
   "id": "7837c028-7a6f-491e-9f6a-1491f28af2c6",
   "metadata": {
    "tags": []
   },
   "outputs": [
    {
     "data": {
      "text/html": [
       "<div>\n",
       "<style scoped>\n",
       "    .dataframe tbody tr th:only-of-type {\n",
       "        vertical-align: middle;\n",
       "    }\n",
       "\n",
       "    .dataframe tbody tr th {\n",
       "        vertical-align: top;\n",
       "    }\n",
       "\n",
       "    .dataframe thead th {\n",
       "        text-align: right;\n",
       "    }\n",
       "</style>\n",
       "<table border=\"1\" class=\"dataframe\">\n",
       "  <thead>\n",
       "    <tr style=\"text-align: right;\">\n",
       "      <th></th>\n",
       "      <th>film_id</th>\n",
       "      <th>title</th>\n",
       "      <th>description</th>\n",
       "      <th>release_year</th>\n",
       "      <th>language_id</th>\n",
       "      <th>original_language_id</th>\n",
       "      <th>rental_duration</th>\n",
       "      <th>rental_rate</th>\n",
       "      <th>length</th>\n",
       "      <th>replacement_cost</th>\n",
       "      <th>rating</th>\n",
       "      <th>special_features</th>\n",
       "      <th>last_update</th>\n",
       "      <th>actor_id</th>\n",
       "      <th>last_update_film_actor</th>\n",
       "      <th>first_name</th>\n",
       "      <th>last_name</th>\n",
       "      <th>last_update_actor</th>\n",
       "      <th>category_id</th>\n",
       "      <th>last_update_film_category</th>\n",
       "      <th>category_name</th>\n",
       "      <th>last_update_category</th>\n",
       "      <th>language</th>\n",
       "      <th>last_update_language</th>\n",
       "    </tr>\n",
       "  </thead>\n",
       "  <tbody>\n",
       "    <tr>\n",
       "      <th>0</th>\n",
       "      <td>1</td>\n",
       "      <td>ACADEMY DINOSAUR</td>\n",
       "      <td>A Epic Drama of a Feminist And a Mad Scientist...</td>\n",
       "      <td>2006</td>\n",
       "      <td>1</td>\n",
       "      <td>None</td>\n",
       "      <td>6</td>\n",
       "      <td>0.99</td>\n",
       "      <td>86</td>\n",
       "      <td>20.99</td>\n",
       "      <td>PG</td>\n",
       "      <td>Deleted Scenes,Behind the Scenes</td>\n",
       "      <td>2006-02-15 05:03:42</td>\n",
       "      <td>1.0</td>\n",
       "      <td>2006-02-15 05:05:03</td>\n",
       "      <td>PENELOPE</td>\n",
       "      <td>GUINESS</td>\n",
       "      <td>2006-02-15 04:34:33</td>\n",
       "      <td>6</td>\n",
       "      <td>2006-02-15 05:07:09</td>\n",
       "      <td>Documentary</td>\n",
       "      <td>2006-02-15 04:46:27</td>\n",
       "      <td>English</td>\n",
       "      <td>2006-02-15 05:02:19</td>\n",
       "    </tr>\n",
       "    <tr>\n",
       "      <th>1</th>\n",
       "      <td>1</td>\n",
       "      <td>ACADEMY DINOSAUR</td>\n",
       "      <td>A Epic Drama of a Feminist And a Mad Scientist...</td>\n",
       "      <td>2006</td>\n",
       "      <td>1</td>\n",
       "      <td>None</td>\n",
       "      <td>6</td>\n",
       "      <td>0.99</td>\n",
       "      <td>86</td>\n",
       "      <td>20.99</td>\n",
       "      <td>PG</td>\n",
       "      <td>Deleted Scenes,Behind the Scenes</td>\n",
       "      <td>2006-02-15 05:03:42</td>\n",
       "      <td>10.0</td>\n",
       "      <td>2006-02-15 05:05:03</td>\n",
       "      <td>CHRISTIAN</td>\n",
       "      <td>GABLE</td>\n",
       "      <td>2006-02-15 04:34:33</td>\n",
       "      <td>6</td>\n",
       "      <td>2006-02-15 05:07:09</td>\n",
       "      <td>Documentary</td>\n",
       "      <td>2006-02-15 04:46:27</td>\n",
       "      <td>English</td>\n",
       "      <td>2006-02-15 05:02:19</td>\n",
       "    </tr>\n",
       "  </tbody>\n",
       "</table>\n",
       "</div>"
      ],
      "text/plain": [
       "   film_id             title  \\\n",
       "0        1  ACADEMY DINOSAUR   \n",
       "1        1  ACADEMY DINOSAUR   \n",
       "\n",
       "                                         description  release_year  \\\n",
       "0  A Epic Drama of a Feminist And a Mad Scientist...          2006   \n",
       "1  A Epic Drama of a Feminist And a Mad Scientist...          2006   \n",
       "\n",
       "   language_id original_language_id  rental_duration  rental_rate  length  \\\n",
       "0            1                 None                6         0.99      86   \n",
       "1            1                 None                6         0.99      86   \n",
       "\n",
       "   replacement_cost rating                  special_features  \\\n",
       "0             20.99     PG  Deleted Scenes,Behind the Scenes   \n",
       "1             20.99     PG  Deleted Scenes,Behind the Scenes   \n",
       "\n",
       "          last_update  actor_id last_update_film_actor first_name last_name  \\\n",
       "0 2006-02-15 05:03:42       1.0    2006-02-15 05:05:03   PENELOPE   GUINESS   \n",
       "1 2006-02-15 05:03:42      10.0    2006-02-15 05:05:03  CHRISTIAN     GABLE   \n",
       "\n",
       "    last_update_actor  category_id last_update_film_category category_name  \\\n",
       "0 2006-02-15 04:34:33            6       2006-02-15 05:07:09   Documentary   \n",
       "1 2006-02-15 04:34:33            6       2006-02-15 05:07:09   Documentary   \n",
       "\n",
       "  last_update_category language last_update_language  \n",
       "0  2006-02-15 04:46:27  English  2006-02-15 05:02:19  \n",
       "1  2006-02-15 04:46:27  English  2006-02-15 05:02:19  "
      ]
     },
     "execution_count": 17,
     "metadata": {},
     "output_type": "execute_result"
    }
   ],
   "source": [
    "df_fact_films.rename(columns = {'name':'category_name', 'name_language':'language'}, inplace = True)\n",
    "df_fact_films.head(2)\n",
    "#renamed some previously unclear column names"
   ]
  },
  {
   "cell_type": "code",
   "execution_count": 18,
   "id": "12ae9eb6-5ed5-4167-bb41-1ae4a9a7b6b8",
   "metadata": {
    "tags": []
   },
   "outputs": [],
   "source": [
    "df_fact_films.drop(columns = {'original_language_id'}, inplace = True)\n",
    "df_fact_films.dropna(inplace = True)"
   ]
  },
  {
   "cell_type": "markdown",
   "id": "fa27d6f7-0fa8-4f85-b5f9-856566c76f5b",
   "metadata": {
    "tags": []
   },
   "source": [
    "# Now it is time to move this dataframe into my MongoDB cluster"
   ]
  },
  {
   "cell_type": "code",
   "execution_count": 53,
   "id": "7d063a56-7419-4266-9400-1564e90a4f92",
   "metadata": {
    "tags": []
   },
   "outputs": [],
   "source": [
    "host_name = \"localhost\"\n",
    "port = \"27017\"\n",
    "\n",
    "atlas_cluster_name = \"dscluster\"\n",
    "atlas_default_dbname = \"sakila\"\n",
    "atlas_user_name = \"wloving77\"\n",
    "atlas_password = os.environ[\"PWD\"] # omitted the cell defining this variable for password security. \n",
    "atlas_special_key = \"iynrpaa\"\n",
    "\n",
    "conn_str = f\"mongodb+srv://{atlas_user_name}:{atlas_password}@{atlas_cluster_name}.{atlas_special_key}.mongodb.net\"\n",
    "\n"
   ]
  },
  {
   "cell_type": "code",
   "execution_count": 37,
   "id": "96544f0f-bc7e-4f2d-9625-fa1fd414ab62",
   "metadata": {
    "tags": []
   },
   "outputs": [],
   "source": [
    "#My function that sets a mongodb collection to be the provided dataframe\n",
    "def set_mongo_dataframe(connection_str, db_name, collection, df):\n",
    "        client = pymongo.MongoClient(connection_str)\n",
    "        db = client[db_name]\n",
    "        db[collection].insert_many(df.to_dict('records'))\n",
    "        client.close()"
   ]
  },
  {
   "cell_type": "code",
   "execution_count": 21,
   "id": "98b95151-b545-4a69-9f46-45ee532ccb17",
   "metadata": {
    "tags": []
   },
   "outputs": [],
   "source": [
    "set_mongo_dataframe(conn_str, 'ds2002-Midterm', 'fact_films', df_fact_films)"
   ]
  },
  {
   "cell_type": "markdown",
   "id": "18a44cd9-4eab-4abd-92a6-b9fd768c9044",
   "metadata": {},
   "source": [
    "## Now I will prove it was inserted"
   ]
  },
  {
   "cell_type": "code",
   "execution_count": 22,
   "id": "9d09c10b-7421-4e32-88fa-b4143011234a",
   "metadata": {
    "tags": []
   },
   "outputs": [],
   "source": [
    "#Professor Tupitza's function from Lab4\n",
    "def get_mongo_dataframe(connect_str, db_name, collection, query):\n",
    "    '''Create a connection to MongoDB'''\n",
    "    client = pymongo.MongoClient(connect_str)\n",
    "    \n",
    "    '''Query MongoDB, and fill a python list with documents to create a DataFrame'''\n",
    "    db = client[db_name]\n",
    "    dframe = pd.DataFrame(list(db[collection].find(query)))\n",
    "    dframe.drop(['_id'], axis=1, inplace=True)\n",
    "    client.close()\n",
    "    return dframe\n"
   ]
  },
  {
   "cell_type": "code",
   "execution_count": 23,
   "id": "cb3e8229-1d35-42cf-a776-d464880d8e4a",
   "metadata": {
    "tags": []
   },
   "outputs": [
    {
     "data": {
      "text/html": [
       "<div>\n",
       "<style scoped>\n",
       "    .dataframe tbody tr th:only-of-type {\n",
       "        vertical-align: middle;\n",
       "    }\n",
       "\n",
       "    .dataframe tbody tr th {\n",
       "        vertical-align: top;\n",
       "    }\n",
       "\n",
       "    .dataframe thead th {\n",
       "        text-align: right;\n",
       "    }\n",
       "</style>\n",
       "<table border=\"1\" class=\"dataframe\">\n",
       "  <thead>\n",
       "    <tr style=\"text-align: right;\">\n",
       "      <th></th>\n",
       "      <th>film_id</th>\n",
       "      <th>title</th>\n",
       "      <th>description</th>\n",
       "      <th>release_year</th>\n",
       "      <th>language_id</th>\n",
       "      <th>rental_duration</th>\n",
       "      <th>rental_rate</th>\n",
       "      <th>length</th>\n",
       "      <th>replacement_cost</th>\n",
       "      <th>rating</th>\n",
       "      <th>special_features</th>\n",
       "      <th>last_update</th>\n",
       "      <th>actor_id</th>\n",
       "      <th>last_update_film_actor</th>\n",
       "      <th>first_name</th>\n",
       "      <th>last_name</th>\n",
       "      <th>last_update_actor</th>\n",
       "      <th>category_id</th>\n",
       "      <th>last_update_film_category</th>\n",
       "      <th>category_name</th>\n",
       "      <th>last_update_category</th>\n",
       "      <th>language</th>\n",
       "      <th>last_update_language</th>\n",
       "    </tr>\n",
       "  </thead>\n",
       "  <tbody>\n",
       "    <tr>\n",
       "      <th>0</th>\n",
       "      <td>1</td>\n",
       "      <td>ACADEMY DINOSAUR</td>\n",
       "      <td>A Epic Drama of a Feminist And a Mad Scientist...</td>\n",
       "      <td>2006</td>\n",
       "      <td>1</td>\n",
       "      <td>6</td>\n",
       "      <td>0.99</td>\n",
       "      <td>86</td>\n",
       "      <td>20.99</td>\n",
       "      <td>PG</td>\n",
       "      <td>Deleted Scenes,Behind the Scenes</td>\n",
       "      <td>2006-02-15 05:03:42</td>\n",
       "      <td>1.0</td>\n",
       "      <td>2006-02-15 05:05:03</td>\n",
       "      <td>PENELOPE</td>\n",
       "      <td>GUINESS</td>\n",
       "      <td>2006-02-15 04:34:33</td>\n",
       "      <td>6</td>\n",
       "      <td>2006-02-15 05:07:09</td>\n",
       "      <td>Documentary</td>\n",
       "      <td>2006-02-15 04:46:27</td>\n",
       "      <td>English</td>\n",
       "      <td>2006-02-15 05:02:19</td>\n",
       "    </tr>\n",
       "    <tr>\n",
       "      <th>1</th>\n",
       "      <td>1</td>\n",
       "      <td>ACADEMY DINOSAUR</td>\n",
       "      <td>A Epic Drama of a Feminist And a Mad Scientist...</td>\n",
       "      <td>2006</td>\n",
       "      <td>1</td>\n",
       "      <td>6</td>\n",
       "      <td>0.99</td>\n",
       "      <td>86</td>\n",
       "      <td>20.99</td>\n",
       "      <td>PG</td>\n",
       "      <td>Deleted Scenes,Behind the Scenes</td>\n",
       "      <td>2006-02-15 05:03:42</td>\n",
       "      <td>10.0</td>\n",
       "      <td>2006-02-15 05:05:03</td>\n",
       "      <td>CHRISTIAN</td>\n",
       "      <td>GABLE</td>\n",
       "      <td>2006-02-15 04:34:33</td>\n",
       "      <td>6</td>\n",
       "      <td>2006-02-15 05:07:09</td>\n",
       "      <td>Documentary</td>\n",
       "      <td>2006-02-15 04:46:27</td>\n",
       "      <td>English</td>\n",
       "      <td>2006-02-15 05:02:19</td>\n",
       "    </tr>\n",
       "  </tbody>\n",
       "</table>\n",
       "</div>"
      ],
      "text/plain": [
       "   film_id             title  \\\n",
       "0        1  ACADEMY DINOSAUR   \n",
       "1        1  ACADEMY DINOSAUR   \n",
       "\n",
       "                                         description  release_year  \\\n",
       "0  A Epic Drama of a Feminist And a Mad Scientist...          2006   \n",
       "1  A Epic Drama of a Feminist And a Mad Scientist...          2006   \n",
       "\n",
       "   language_id  rental_duration  rental_rate  length  replacement_cost rating  \\\n",
       "0            1                6         0.99      86             20.99     PG   \n",
       "1            1                6         0.99      86             20.99     PG   \n",
       "\n",
       "                   special_features         last_update actor_id  \\\n",
       "0  Deleted Scenes,Behind the Scenes 2006-02-15 05:03:42      1.0   \n",
       "1  Deleted Scenes,Behind the Scenes 2006-02-15 05:03:42     10.0   \n",
       "\n",
       "  last_update_film_actor first_name last_name    last_update_actor  \\\n",
       "0    2006-02-15 05:05:03   PENELOPE   GUINESS  2006-02-15 04:34:33   \n",
       "1    2006-02-15 05:05:03  CHRISTIAN     GABLE  2006-02-15 04:34:33   \n",
       "\n",
       "   category_id last_update_film_category category_name last_update_category  \\\n",
       "0            6       2006-02-15 05:07:09   Documentary  2006-02-15 04:46:27   \n",
       "1            6       2006-02-15 05:07:09   Documentary  2006-02-15 04:46:27   \n",
       "\n",
       "  language last_update_language  \n",
       "0  English  2006-02-15 05:02:19  \n",
       "1  English  2006-02-15 05:02:19  "
      ]
     },
     "execution_count": 23,
     "metadata": {},
     "output_type": "execute_result"
    }
   ],
   "source": [
    "df_fact_films2 = get_mongo_dataframe(conn_str, 'ds2002-Midterm', 'fact_films', '')\n",
    "df_fact_films2.head(2)\n",
    "#The table was actually loaded!"
   ]
  },
  {
   "cell_type": "markdown",
   "id": "69268989-b21f-405a-ae7d-d9681b6da828",
   "metadata": {},
   "source": [
    "# Now to load the rest of the data into mongodb to complete the \"data mart\" :"
   ]
  },
  {
   "cell_type": "code",
   "execution_count": 30,
   "id": "c71a85c3-e36e-49d1-bdc1-a28f2da706fa",
   "metadata": {
    "tags": []
   },
   "outputs": [],
   "source": [
    "set_mongo_dataframe(conn_str, 'ds2002-Midterm', 'film_actor' , df_film_actor)"
   ]
  },
  {
   "cell_type": "code",
   "execution_count": 31,
   "id": "9b11e42e-5603-470e-afe6-c7e0e1be13f0",
   "metadata": {
    "tags": []
   },
   "outputs": [],
   "source": [
    "set_mongo_dataframe(conn_str, 'ds2002-Midterm', 'film' , df_film)"
   ]
  },
  {
   "cell_type": "code",
   "execution_count": 32,
   "id": "2277540b-d249-44a8-b8c3-da3558b4827f",
   "metadata": {
    "tags": []
   },
   "outputs": [],
   "source": [
    "set_mongo_dataframe(conn_str, 'ds2002-Midterm', 'actor' , df_actor)"
   ]
  },
  {
   "cell_type": "code",
   "execution_count": 33,
   "id": "bccdbba6-edab-420a-964a-3a7a8d50c07f",
   "metadata": {
    "tags": []
   },
   "outputs": [],
   "source": [
    "set_mongo_dataframe(conn_str, 'ds2002-Midterm', 'film_category' , df_film_category)"
   ]
  },
  {
   "cell_type": "code",
   "execution_count": 34,
   "id": "130af3fa-a3cf-4bb7-936e-cf8d73536cd2",
   "metadata": {
    "tags": []
   },
   "outputs": [],
   "source": [
    "set_mongo_dataframe(conn_str, 'ds2002-Midterm', 'category' , df_category)"
   ]
  },
  {
   "cell_type": "code",
   "execution_count": 35,
   "id": "2a336461-f552-4509-becd-559d4a6dda03",
   "metadata": {
    "tags": []
   },
   "outputs": [],
   "source": [
    "set_mongo_dataframe(conn_str, 'ds2002-Midterm', 'language' , df_language)"
   ]
  },
  {
   "cell_type": "markdown",
   "id": "71e3d392-b9c0-4eae-b1da-50d5296bac1c",
   "metadata": {},
   "source": [
    "# Data mart now established, all dataframes loaded into the 'ds2002-Midterm' Collection with the above tables as well as fact_films. \n",
    "\n",
    "## Now to load a table from a local directory into a dataframe and then into the cloud data mart:"
   ]
  },
  {
   "cell_type": "code",
   "execution_count": 24,
   "id": "d41f1832-3dfe-4925-95ee-bb88480d00e7",
   "metadata": {
    "tags": []
   },
   "outputs": [
    {
     "name": "stdout",
     "output_type": "stream",
     "text": [
      "C:\\Users\\wlovi\\OneDrive\\Desktop\\GitHubRepo's\\ds2002\\film_text.csv\n"
     ]
    }
   ],
   "source": [
    "data_dir = os.path.join(os.getcwd(), 'film_text.csv')\n",
    "print(data_dir)"
   ]
  },
  {
   "cell_type": "code",
   "execution_count": 25,
   "id": "d482bb13-0f4e-4e29-915c-15d523efbd67",
   "metadata": {
    "tags": []
   },
   "outputs": [
    {
     "data": {
      "text/html": [
       "<div>\n",
       "<style scoped>\n",
       "    .dataframe tbody tr th:only-of-type {\n",
       "        vertical-align: middle;\n",
       "    }\n",
       "\n",
       "    .dataframe tbody tr th {\n",
       "        vertical-align: top;\n",
       "    }\n",
       "\n",
       "    .dataframe thead th {\n",
       "        text-align: right;\n",
       "    }\n",
       "</style>\n",
       "<table border=\"1\" class=\"dataframe\">\n",
       "  <thead>\n",
       "    <tr style=\"text-align: right;\">\n",
       "      <th></th>\n",
       "      <th>film_id</th>\n",
       "      <th>title</th>\n",
       "      <th>description</th>\n",
       "    </tr>\n",
       "  </thead>\n",
       "  <tbody>\n",
       "    <tr>\n",
       "      <th>0</th>\n",
       "      <td>1</td>\n",
       "      <td>ACADEMY DINOSAUR</td>\n",
       "      <td>A Epic Drama of a Feminist And a Mad Scientist...</td>\n",
       "    </tr>\n",
       "    <tr>\n",
       "      <th>1</th>\n",
       "      <td>2</td>\n",
       "      <td>ACE GOLDFINGER</td>\n",
       "      <td>A Astounding Epistle of a Database Administrat...</td>\n",
       "    </tr>\n",
       "    <tr>\n",
       "      <th>2</th>\n",
       "      <td>3</td>\n",
       "      <td>ADAPTATION HOLES</td>\n",
       "      <td>A Astounding Reflection of a Lumberjack And a ...</td>\n",
       "    </tr>\n",
       "    <tr>\n",
       "      <th>3</th>\n",
       "      <td>4</td>\n",
       "      <td>AFFAIR PREJUDICE</td>\n",
       "      <td>A Fanciful Documentary of a Frisbee And a Lumb...</td>\n",
       "    </tr>\n",
       "    <tr>\n",
       "      <th>4</th>\n",
       "      <td>5</td>\n",
       "      <td>AFRICAN EGG</td>\n",
       "      <td>A Fast-Paced Documentary of a Pastry Chef And ...</td>\n",
       "    </tr>\n",
       "  </tbody>\n",
       "</table>\n",
       "</div>"
      ],
      "text/plain": [
       "   film_id             title  \\\n",
       "0        1  ACADEMY DINOSAUR   \n",
       "1        2    ACE GOLDFINGER   \n",
       "2        3  ADAPTATION HOLES   \n",
       "3        4  AFFAIR PREJUDICE   \n",
       "4        5       AFRICAN EGG   \n",
       "\n",
       "                                         description  \n",
       "0  A Epic Drama of a Feminist And a Mad Scientist...  \n",
       "1  A Astounding Epistle of a Database Administrat...  \n",
       "2  A Astounding Reflection of a Lumberjack And a ...  \n",
       "3  A Fanciful Documentary of a Frisbee And a Lumb...  \n",
       "4  A Fast-Paced Documentary of a Pastry Chef And ...  "
      ]
     },
     "execution_count": 25,
     "metadata": {},
     "output_type": "execute_result"
    }
   ],
   "source": [
    "df_film_text = pd.read_csv(data_dir, sep = \";\")\n",
    "df_film_text = df_film_text.reset_index(drop = True)\n",
    "df_film_text.head(5)"
   ]
  },
  {
   "cell_type": "code",
   "execution_count": 38,
   "id": "50b6109d-dc4f-4693-a697-b92631d1fb07",
   "metadata": {
    "tags": []
   },
   "outputs": [],
   "source": [
    "set_mongo_dataframe(conn_str, 'ds2002-Midterm', 'film_text' , df_film_text)"
   ]
  },
  {
   "cell_type": "markdown",
   "id": "a9af3e4c-f656-46a9-9bb3-612b5f8c720b",
   "metadata": {},
   "source": [
    "# Now I will load all of this data into it's own data warehouse on my local SQL server"
   ]
  },
  {
   "cell_type": "code",
   "execution_count": 26,
   "id": "92aea0e8-e724-4160-8b0a-ec486c90e87a",
   "metadata": {
    "tags": []
   },
   "outputs": [],
   "source": [
    "#Professor Tupitza's function for setting a table in a sql server. \n",
    "def set_dataframe(user_id, pwd, host_name, db_name, df, table_name, pk_column, db_operation):\n",
    "    conn_str = f\"mysql+pymysql://{user_id}:{pwd}@{host_name}/{db_name}\"\n",
    "    sqlEngine = create_engine(conn_str, pool_recycle=360)\n",
    "    connection = sqlEngine.connect()\n",
    "        \n",
    "    if db_operation == \"insert\":\n",
    "        df.to_sql(table_name, schema = db_name, con = sqlEngine, index=False, if_exists='replace')\n",
    "        #connection.execute(text(f\"ALTER TABLE {table_name} ADD PRIMARY KEY ({pk_column});\"))\n",
    "            \n",
    "    elif db_operation == \"update\":\n",
    "        df.to_sql(table_name, schema=db_name,con=connection, index=False, if_exists='append')\n",
    "    \n",
    "    connection.close()"
   ]
  },
  {
   "cell_type": "code",
   "execution_count": 27,
   "id": "5b8ff4b3-d7b1-47bb-ab38-cae14fa5a014",
   "metadata": {
    "tags": []
   },
   "outputs": [],
   "source": [
    "conn_str = f\"mysql+pymysql://{user_id}:{pwd}@{host_name}\"\n",
    "sqlEngine = create_engine(conn_str, pool_recycle=3600)\n",
    "\n",
    "conn = sqlEngine.connect()\n",
    "\n",
    "conn.execute(text(\"DROP DATABASE IF EXISTS `ds2002-Midterm`;\"))\n",
    "conn.execute(text(\"CREATE DATABASE `ds2002-Midterm`;\"))\n",
    "\n",
    "dst_dbname = 'ds2002-Midterm'\n",
    "\n",
    "conn.close()\n"
   ]
  },
  {
   "cell_type": "code",
   "execution_count": 28,
   "id": "ba02b219-fa0c-43b3-bb21-4c488c6384c4",
   "metadata": {
    "tags": []
   },
   "outputs": [],
   "source": [
    "tables = [('fact_films', df_fact_films, 'film_id'), ('film', df_film, 'film_id'), ('film_actor', df_film_actor, 'actor_id'), ('actor', df_actor, 'actor_id'), \n",
    "          ('film_category', df_film_category, 'film_id'), ('category', df_category, 'category_id'), ('language', df_language, 'language_id'), ('film_text', df_film_text, 'film_id'),]\n",
    "\n",
    "db_operation = \"insert\"\n",
    "\n",
    "for table_name, dataframe, primary_key in tables:\n",
    "    set_dataframe(user_id, pwd, host_name, dst_dbname, dataframe, table_name, primary_key, db_operation)"
   ]
  },
  {
   "cell_type": "markdown",
   "id": "fd970584-0db5-41e5-b7d5-0b6104b31747",
   "metadata": {},
   "source": [
    "# Data mart is finished! It is all loaded into the MongoDB database as well as the local MySQL server!"
   ]
  },
  {
   "cell_type": "markdown",
   "id": "f616b45c-781d-4652-855b-745f5e1d1b32",
   "metadata": {},
   "source": [
    "## dim_date added below, sql scripts run on MySQL will be submitted alongside this. "
   ]
  },
  {
   "cell_type": "code",
   "execution_count": 34,
   "id": "b56c7e6f-2f5c-4812-93b7-0b1439892bd9",
   "metadata": {
    "tags": []
   },
   "outputs": [
    {
     "data": {
      "text/html": [
       "<div>\n",
       "<style scoped>\n",
       "    .dataframe tbody tr th:only-of-type {\n",
       "        vertical-align: middle;\n",
       "    }\n",
       "\n",
       "    .dataframe tbody tr th {\n",
       "        vertical-align: top;\n",
       "    }\n",
       "\n",
       "    .dataframe thead th {\n",
       "        text-align: right;\n",
       "    }\n",
       "</style>\n",
       "<table border=\"1\" class=\"dataframe\">\n",
       "  <thead>\n",
       "    <tr style=\"text-align: right;\">\n",
       "      <th></th>\n",
       "      <th>date_key</th>\n",
       "      <th>full_date</th>\n",
       "      <th>date_name</th>\n",
       "      <th>date_name_us</th>\n",
       "      <th>date_name_eu</th>\n",
       "      <th>day_of_week</th>\n",
       "      <th>day_name_of_week</th>\n",
       "      <th>day_of_month</th>\n",
       "      <th>day_of_year</th>\n",
       "      <th>weekday_weekend</th>\n",
       "      <th>week_of_year</th>\n",
       "      <th>month_name</th>\n",
       "      <th>month_of_year</th>\n",
       "      <th>is_last_day_of_month</th>\n",
       "      <th>calendar_quarter</th>\n",
       "      <th>calendar_year</th>\n",
       "      <th>calendar_year_month</th>\n",
       "      <th>calendar_year_qtr</th>\n",
       "      <th>fiscal_month_of_year</th>\n",
       "      <th>fiscal_quarter</th>\n",
       "      <th>fiscal_year</th>\n",
       "      <th>fiscal_year_month</th>\n",
       "      <th>fiscal_year_qtr</th>\n",
       "    </tr>\n",
       "  </thead>\n",
       "  <tbody>\n",
       "    <tr>\n",
       "      <th>0</th>\n",
       "      <td>20050101</td>\n",
       "      <td>2005-01-01</td>\n",
       "      <td>2005/01/01</td>\n",
       "      <td>01/01/2005</td>\n",
       "      <td>01/01/2005</td>\n",
       "      <td>7</td>\n",
       "      <td>Saturday</td>\n",
       "      <td>1</td>\n",
       "      <td>1</td>\n",
       "      <td>Weekend</td>\n",
       "      <td>53</td>\n",
       "      <td>January</td>\n",
       "      <td>1</td>\n",
       "      <td>N</td>\n",
       "      <td>1</td>\n",
       "      <td>2005</td>\n",
       "      <td>2005-01</td>\n",
       "      <td>2005Q1</td>\n",
       "      <td>7</td>\n",
       "      <td>3</td>\n",
       "      <td>2005</td>\n",
       "      <td>2005-07</td>\n",
       "      <td>2005Q3</td>\n",
       "    </tr>\n",
       "    <tr>\n",
       "      <th>1</th>\n",
       "      <td>20050102</td>\n",
       "      <td>2005-01-02</td>\n",
       "      <td>2005/01/02</td>\n",
       "      <td>01/02/2005</td>\n",
       "      <td>02/01/2005</td>\n",
       "      <td>1</td>\n",
       "      <td>Sunday</td>\n",
       "      <td>2</td>\n",
       "      <td>2</td>\n",
       "      <td>Weekend</td>\n",
       "      <td>53</td>\n",
       "      <td>January</td>\n",
       "      <td>1</td>\n",
       "      <td>N</td>\n",
       "      <td>1</td>\n",
       "      <td>2005</td>\n",
       "      <td>2005-01</td>\n",
       "      <td>2005Q1</td>\n",
       "      <td>7</td>\n",
       "      <td>3</td>\n",
       "      <td>2005</td>\n",
       "      <td>2005-07</td>\n",
       "      <td>2005Q3</td>\n",
       "    </tr>\n",
       "  </tbody>\n",
       "</table>\n",
       "</div>"
      ],
      "text/plain": [
       "   date_key   full_date   date_name date_name_us date_name_eu  day_of_week  \\\n",
       "0  20050101  2005-01-01  2005/01/01   01/01/2005   01/01/2005            7   \n",
       "1  20050102  2005-01-02  2005/01/02   01/02/2005   02/01/2005            1   \n",
       "\n",
       "  day_name_of_week  day_of_month  day_of_year weekday_weekend  week_of_year  \\\n",
       "0         Saturday             1            1         Weekend            53   \n",
       "1           Sunday             2            2         Weekend            53   \n",
       "\n",
       "  month_name  month_of_year is_last_day_of_month  calendar_quarter  \\\n",
       "0    January              1                    N                 1   \n",
       "1    January              1                    N                 1   \n",
       "\n",
       "   calendar_year calendar_year_month calendar_year_qtr  fiscal_month_of_year  \\\n",
       "0           2005             2005-01            2005Q1                     7   \n",
       "1           2005             2005-01            2005Q1                     7   \n",
       "\n",
       "   fiscal_quarter  fiscal_year fiscal_year_month fiscal_year_qtr  \n",
       "0               3         2005           2005-07          2005Q3  \n",
       "1               3         2005           2005-07          2005Q3  "
      ]
     },
     "execution_count": 34,
     "metadata": {},
     "output_type": "execute_result"
    }
   ],
   "source": [
    "query = \"SELECT * FROM dim_date;\"\n",
    "df_dim_date = get_dataframe(user_id, pwd, host_name, 'ds2002-midterm', text(query))\n",
    "df_dim_date.head(2)"
   ]
  },
  {
   "cell_type": "code",
   "execution_count": 46,
   "id": "466fe59b-cbf7-4f00-9ac2-5e3e312f332e",
   "metadata": {
    "tags": []
   },
   "outputs": [],
   "source": [
    "import datetime\n",
    "\n",
    "#Changes datetime.date to be datetime.datetime for compatibility with mongo. \n",
    "\n",
    "for col in df_dim_date.columns:\n",
    "    df_dim_date[col] = df_dim_date[col].apply(lambda d: datetime.datetime.combine(d, datetime.time.min) if isinstance(d, datetime.date) else d)\n",
    "        \n"
   ]
  },
  {
   "cell_type": "code",
   "execution_count": 47,
   "id": "21e331e3-5e8f-4512-bbd1-6c7047b1952a",
   "metadata": {
    "tags": []
   },
   "outputs": [],
   "source": [
    "set_mongo_dataframe(conn_str, 'ds2002-Midterm', 'dim_date', df_dim_date)"
   ]
  },
  {
   "cell_type": "code",
   "execution_count": 52,
   "id": "69dd9d09-1db7-4657-956a-8f5e03e7532f",
   "metadata": {
    "tags": []
   },
   "outputs": [],
   "source": [
    "#Update the fact_films so that it has the date_key's \n",
    "query = \"SELECT * FROM fact_films;\"\n",
    "df_fact_films = get_dataframe(user_id, pwd, host_name, 'ds2002-midterm', text(query))"
   ]
  },
  {
   "cell_type": "code",
   "execution_count": 55,
   "id": "92c21f1b-3a09-4c28-a6b4-97450c4e23ba",
   "metadata": {
    "tags": []
   },
   "outputs": [],
   "source": [
    "set_mongo_dataframe(conn_str, 'ds2002-Midterm', 'fact_films', df_fact_films)"
   ]
  },
  {
   "cell_type": "markdown",
   "id": "decd4c9f-fb1f-4d22-9ad2-23ef4713e34a",
   "metadata": {},
   "source": [
    "## Screenshots turned in alongside this notebook for proof"
   ]
  },
  {
   "cell_type": "code",
   "execution_count": 48,
   "id": "acb47f2d-ac77-486f-be4b-b8dd0c410a18",
   "metadata": {
    "tags": []
   },
   "outputs": [
    {
     "data": {
      "image/png": "[encoded data removed]",
      "text/plain": [
       "<IPython.core.display.Image object>"
      ]
     },
     "execution_count": 48,
     "metadata": {},
     "output_type": "execute_result"
    }
   ],
   "source": [
    "from IPython.display import Image\n",
    "Image(filename='sql_data_mart.png') "
   ]
  },
  {
   "cell_type": "code",
   "execution_count": 50,
   "id": "b8fe957e-0e53-4683-ad15-4767457cb923",
   "metadata": {
    "tags": []
   },
   "outputs": [
    {
     "data": {
      "image/png": "[encoded data removed]",
      "text/plain": [
       "<IPython.core.display.Image object>"
      ]
     },
     "execution_count": 50,
     "metadata": {},
     "output_type": "execute_result"
    }
   ],
   "source": [
    "Image(filename='mongodb_data_mart.png')"
   ]
  },
  {
   "cell_type": "code",
   "execution_count": null,
   "id": "51ffb17d-a1fb-4576-8d01-9090760f2d9e",
   "metadata": {},
   "outputs": [],
   "source": []
  }
 ],
 "metadata": {
  "kernelspec": {
   "display_name": "Python 3 (ipykernel)",
   "language": "python",
   "name": "python3"
  },
  "language_info": {
   "codemirror_mode": {
    "name": "ipython",
    "version": 3
   },
   "file_extension": ".py",
   "mimetype": "text/x-python",
   "name": "python",
   "nbconvert_exporter": "python",
   "pygments_lexer": "ipython3",
   "version": "3.10.10"
  }
 },
 "nbformat": 4,
 "nbformat_minor": 5
}
